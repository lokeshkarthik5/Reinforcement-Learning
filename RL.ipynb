{
 "cells": [
  {
   "cell_type": "code",
   "execution_count": 1,
   "metadata": {},
   "outputs": [],
   "source": [
    "import random\n",
    "import gym"
   ]
  },
  {
   "cell_type": "code",
   "execution_count": 2,
   "metadata": {},
   "outputs": [],
   "source": [
    "env=gym.make('CartPole-v1')"
   ]
  },
  {
   "cell_type": "code",
   "execution_count": 4,
   "metadata": {},
   "outputs": [],
   "source": [
    "for episode in range(5):\n",
    "    env.reset()\n",
    "    for t in range(200):\n",
    "        env.render()\n",
    "        action=env.action_space.sample()\n",
    "        observation,reward,done,info=env.step(action)\n",
    "env.close()"
   ]
  },
  {
   "cell_type": "code",
   "execution_count": 8,
   "metadata": {},
   "outputs": [],
   "source": [
    "import tensorflow as tf\n",
    "import numpy as np\n",
    "import matplotlib.pyplot as plt\n",
    "\n",
    "from statistics import median, mean\n",
    "from collections import Counter\n"
   ]
  },
  {
   "cell_type": "code",
   "execution_count": 9,
   "metadata": {},
   "outputs": [],
   "source": [
    "initial_games=10000\n",
    "goal_steps=500\n",
    "score_requirement=50\n"
   ]
  },
  {
   "cell_type": "code",
   "execution_count": 22,
   "metadata": {},
   "outputs": [],
   "source": [
    "def generate_games():\n",
    "    training_data=[]\n",
    "    scores=[]\n",
    "    accepted_scores=[]\n",
    "    \n",
    "    for _ in range(initial_games):\n",
    "        score=0\n",
    "        game_memory=[]\n",
    "        prev_observation=[]\n",
    "        \n",
    "        for _ in range(goal_steps):\n",
    "            action=random.randrange(0,2)\n",
    "            observation,reward,done,info=env.step(action)\n",
    "            if len(prev_observation)>0:\n",
    "                game_memory.append([prev_observation,action])\n",
    "            prev_observation=observation\n",
    "            score+=reward\n",
    "            if done:break\n",
    "        if score>= score_requirement:\n",
    "            accepted_scores.append(score)\n",
    "            for data in game_memory:\n",
    "                if data[1]==1:\n",
    "                    output=[0,1]\n",
    "                elif data[1]==0:\n",
    "                    output=[1,0]\n",
    "                training_data.append([data[0],output])\n",
    "        env.reset()\n",
    "        scores.append(score)\n",
    "    training_data_save=np.array(training_data)\n",
    "    np.save('saved.npy',training_data_save)\n",
    "    \n",
    "    print('Average accepted score:', mean(accepted_scores))\n",
    "    print('Median score for accepted scores:',median(accepted_scores))\n",
    "    print(Counter(accepted_scores))\n",
    "    \n",
    "    return training_data, Counter(accepted_scores)\n",
    "        \n",
    "        \n",
    "                    \n",
    "                    \n",
    "                    \n",
    "\n",
    "                "
   ]
  },
  {
   "cell_type": "code",
   "execution_count": 23,
   "metadata": {},
   "outputs": [
    {
     "name": "stdout",
     "output_type": "stream",
     "text": [
      "Average accepted score: 62.12771739130435\n",
      "Median score for accepted scores: 59.0\n",
      "Counter({50.0: 31, 52.0: 29, 51.0: 26, 53.0: 24, 54.0: 19, 59.0: 17, 61.0: 17, 60.0: 16, 56.0: 16, 63.0: 15, 57.0: 15, 55.0: 14, 64.0: 10, 69.0: 10, 58.0: 8, 65.0: 8, 71.0: 7, 78.0: 6, 62.0: 6, 80.0: 5, 67.0: 5, 66.0: 5, 82.0: 4, 70.0: 4, 74.0: 4, 75.0: 3, 72.0: 3, 85.0: 3, 83.0: 3, 97.0: 3, 68.0: 3, 89.0: 3, 76.0: 2, 73.0: 2, 105.0: 2, 86.0: 2, 87.0: 2, 77.0: 1, 112.0: 1, 107.0: 1, 93.0: 1, 92.0: 1, 88.0: 1, 116.0: 1, 90.0: 1, 115.0: 1, 101.0: 1, 91.0: 1, 84.0: 1, 100.0: 1, 81.0: 1, 79.0: 1, 108.0: 1})\n"
     ]
    }
   ],
   "source": [
    "training_data,accepted_scores=generate_games()"
   ]
  },
  {
   "cell_type": "code",
   "execution_count": 24,
   "metadata": {},
   "outputs": [
    {
     "data": {
      "text/plain": [
       "<BarContainer object of 53 artists>"
      ]
     },
     "execution_count": 24,
     "metadata": {},
     "output_type": "execute_result"
    },
    {
     "data": {
      "image/png": "[encoded data removed]",
      "text/plain": [
       "<Figure size 432x288 with 1 Axes>"
      ]
     },
     "metadata": {
      "needs_background": "light"
     },
     "output_type": "display_data"
    }
   ],
   "source": [
    "\n",
    "%matplotlib inline\n",
    "plt.bar(accepted_scores.keys(), accepted_scores.values())"
   ]
  },
  {
   "cell_type": "code",
   "execution_count": 25,
   "metadata": {},
   "outputs": [],
   "source": [
    "model=tf.keras.Sequential([\n",
    "    tf.keras.layers.Dense(128,input_shape=[1,4],activation=tf.nn.relu),\n",
    "    tf.keras.layers.Dense(256,activation=tf.nn.relu),\n",
    "    tf.keras.layers.Dense(128,activation=tf.nn.relu),\n",
    "    tf.keras.layers.Dense(2,activation=tf.nn.softmax)\n",
    "    \n",
    "])"
   ]
  },
  {
   "cell_type": "code",
   "execution_count": 26,
   "metadata": {},
   "outputs": [
    {
     "name": "stdout",
     "output_type": "stream",
     "text": [
      "Model: \"sequential\"\n",
      "_________________________________________________________________\n",
      "Layer (type)                 Output Shape              Param #   \n",
      "=================================================================\n",
      "dense (Dense)                (None, 1, 128)            640       \n",
      "_________________________________________________________________\n",
      "dense_1 (Dense)              (None, 1, 256)            33024     \n",
      "_________________________________________________________________\n",
      "dense_2 (Dense)              (None, 1, 128)            32896     \n",
      "_________________________________________________________________\n",
      "dense_3 (Dense)              (None, 1, 2)              258       \n",
      "=================================================================\n",
      "Total params: 66,818\n",
      "Trainable params: 66,818\n",
      "Non-trainable params: 0\n",
      "_________________________________________________________________\n"
     ]
    }
   ],
   "source": [
    "model.summary()"
   ]
  },
  {
   "cell_type": "code",
   "execution_count": 27,
   "metadata": {},
   "outputs": [],
   "source": [
    "X=tf.convert_to_tensor([tf.expand_dims(d[0],0) for d in training_data],dtype=tf.float32)\n",
    "y=tf.convert_to_tensor([i[1] for i in training_data],dtype=tf.float32)\n"
   ]
  },
  {
   "cell_type": "code",
   "execution_count": 28,
   "metadata": {},
   "outputs": [],
   "source": [
    "X=X[:20000]\n",
    "y=y[:20000]"
   ]
  },
  {
   "cell_type": "code",
   "execution_count": 29,
   "metadata": {},
   "outputs": [],
   "source": [
    "train_ds = tf.data.Dataset.from_tensor_slices((X, y)).batch(1)"
   ]
  },
  {
   "cell_type": "code",
   "execution_count": 30,
   "metadata": {},
   "outputs": [
    {
     "data": {
      "text/plain": [
       "<tf.Tensor: id=90225, shape=(1, 4), dtype=float32, numpy=\n",
       "array([[-0.03367406,  0.19583127,  0.01309468, -0.25228438]],\n",
       "      dtype=float32)>"
      ]
     },
     "execution_count": 30,
     "metadata": {},
     "output_type": "execute_result"
    }
   ],
   "source": [
    "feature, target = next(iter(train_ds))\n",
    "feature[0]"
   ]
  },
  {
   "cell_type": "code",
   "execution_count": 31,
   "metadata": {},
   "outputs": [],
   "source": [
    "optimizer = tf.keras.optimizers.Adam(1e-3)\n",
    "loss = tf.keras.losses.CategoricalCrossentropy(from_logits=True)"
   ]
  },
  {
   "cell_type": "code",
   "execution_count": 32,
   "metadata": {},
   "outputs": [],
   "source": [
    "model.compile(optimizer=optimizer, loss=loss, metrics=['accuracy'])"
   ]
  },
  {
   "cell_type": "code",
   "execution_count": 33,
   "metadata": {},
   "outputs": [
    {
     "name": "stdout",
     "output_type": "stream",
     "text": [
      "[[[0.4957709 0.5042291]]]\n"
     ]
    }
   ],
   "source": [
    "print(model(tf.expand_dims(feature[0], 0), training=True).numpy())"
   ]
  },
  {
   "cell_type": "code",
   "execution_count": 34,
   "metadata": {},
   "outputs": [
    {
     "name": "stdout",
     "output_type": "stream",
     "text": [
      "Train for 500 steps\n",
      "Epoch 1/5\n",
      "500/500 [==============================] - 4s 8ms/step - loss: 0.6836 - accuracy: 0.5860\n",
      "Epoch 2/5\n",
      "500/500 [==============================] - 2s 5ms/step - loss: 0.6732 - accuracy: 0.6100\n",
      "Epoch 3/5\n",
      "500/500 [==============================] - 2s 5ms/step - loss: 0.6742 - accuracy: 0.5760\n",
      "Epoch 4/5\n",
      "500/500 [==============================] - 2s 5ms/step - loss: 0.6635 - accuracy: 0.6040\n",
      "Epoch 5/5\n",
      "500/500 [==============================] - 2s 5ms/step - loss: 0.6822 - accuracy: 0.5900\n"
     ]
    },
    {
     "data": {
      "text/plain": [
       "<tensorflow.python.keras.callbacks.History at 0x22976352e80>"
      ]
     },
     "execution_count": 34,
     "metadata": {},
     "output_type": "execute_result"
    }
   ],
   "source": [
    "\n",
    "model.fit(train_ds, epochs=5, steps_per_epoch=500)"
   ]
  },
  {
   "cell_type": "code",
   "execution_count": 35,
   "metadata": {},
   "outputs": [
    {
     "data": {
      "text/plain": [
       "array([[[0.7197696 , 0.28023046]]], dtype=float32)"
      ]
     },
     "execution_count": 35,
     "metadata": {},
     "output_type": "execute_result"
    }
   ],
   "source": [
    "model.predict(tf.expand_dims(feature[0], 0))"
   ]
  },
  {
   "cell_type": "code",
   "execution_count": 36,
   "metadata": {},
   "outputs": [
    {
     "data": {
      "text/plain": [
       "<tf.Tensor: id=99007, shape=(1, 1, 4), dtype=float32, numpy=\n",
       "array([[[ 0.04910986, -0.18131298, -0.0032749 ,  0.27630872]]],\n",
       "      dtype=float32)>"
      ]
     },
     "execution_count": 36,
     "metadata": {},
     "output_type": "execute_result"
    }
   ],
   "source": [
    "\n",
    "env.reset()\n",
    "obs, reward, done, _ = env.step(env.action_space.sample())\n",
    "tf.cast(tf.reshape(obs, [1, 1, -1]), tf.float32)"
   ]
  },
  {
   "cell_type": "code",
   "execution_count": 37,
   "metadata": {},
   "outputs": [],
   "source": [
    "\n",
    "for game in range(10):\n",
    "    score = 0\n",
    "    prev_obs = []\n",
    "    env.reset()\n",
    "    for _ in range(500):\n",
    "        env.render()\n",
    "        \n",
    "        if len(prev_obs) == 0:\n",
    "            action = random.randrange(0, 2)\n",
    "        else:\n",
    "            prepared_obs = tf.cast(tf.reshape(prev_obs, [1, 1, -1]), tf.float32)\n",
    "        \n",
    "            action = np.argmax(model(prepared_obs))\n",
    "        \n",
    "        \n",
    "        new_observation, reward, done, info = env.step(action)\n",
    "        prev_obs = new_observation\n",
    "        score += reward\n",
    "        \n",
    "        if done: break\n",
    "    \n",
    "env.close()"
   ]
  },
  {
   "cell_type": "code",
   "execution_count": null,
   "metadata": {},
   "outputs": [],
   "source": []
  }
 ],
 "metadata": {
  "kernelspec": {
   "display_name": "Python 3",
   "language": "python",
   "name": "python3"
  },
  "language_info": {
   "codemirror_mode": {
    "name": "ipython",
    "version": 3
   },
   "file_extension": ".py",
   "mimetype": "text/x-python",
   "name": "python",
   "nbconvert_exporter": "python",
   "pygments_lexer": "ipython3",
   "version": "3.7.3"
  }
 },
 "nbformat": 4,
 "nbformat_minor": 2
}
